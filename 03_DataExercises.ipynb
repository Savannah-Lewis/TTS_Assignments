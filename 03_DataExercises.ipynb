{
 "cells": [
  {
   "cell_type": "code",
   "execution_count": null,
   "id": "d489fc9f",
   "metadata": {},
   "outputs": [],
   "source": [
    "Exercise 1\n",
    "In mathematics, the quadratic equation ax2+bx+c=0 can be solved with the formula x=−b±b2−4ac√2a.\n",
    "\n",
    "Write a function solve_quadratic, that returns both solutions of a generic quadratic as a pair (2-tuple) when the coefficients are given as parameters. It should work like this:\n",
    "\n",
    "print(solve_quadratic(1,-3,2))\n",
    "(2.0,1.0)\n",
    "print(solve_quadratic(1,2,1))\n",
    "(-1.0,-1.0)\n",
    "You may want to use the math.sqrt function from the math module in your solution. Test that your function works in the main function!"
   ]
  },
  {
   "cell_type": "code",
   "execution_count": 83,
   "id": "cb821b4a",
   "metadata": {},
   "outputs": [],
   "source": [
    "import math\n",
    "\n",
    "def solve_quadratic(a,b,c):\n",
    "    discri = (b**2-(4*a*c))/(2*a)\n",
    "    \n",
    "    if discri > 0:\n",
    "        sol1 = -b + math.sqrt(abs(discri))/(2*a)\n",
    "        sol2 = -b - math.sqrt(abs(discri))/(2*a)\n",
    "        print(\"(\",round(sol1,2),\",\",round(sol2,2),\")\")\n",
    "\n",
    "    elif discri == 0:\n",
    "        print(\"(\",-b/(2*a),\",\",-b/(2*a),\")\")\n",
    "    else:\n",
    "        print(-b/(2*a), \"+i\",math.sqrt(abs(discri)),-b/(2*a), \"-i\", math.sqrt(abs(discri)))         \n",
    "    return \n"
   ]
  },
  {
   "cell_type": "code",
   "execution_count": 84,
   "id": "52c6062f",
   "metadata": {},
   "outputs": [
    {
     "name": "stdout",
     "output_type": "stream",
     "text": [
      "( 3.35 , 2.65 )\n",
      "( -1.0 , -1.0 )\n"
     ]
    }
   ],
   "source": [
    "solve_quadratic(1,-3,2)\n",
    "solve_quadratic(1,2,1)"
   ]
  },
  {
   "cell_type": "code",
   "execution_count": null,
   "id": "c7f30b1d",
   "metadata": {},
   "outputs": [],
   "source": [
    "Exercise 2\n",
    "Get a space-separated list of integers from the user, create a tuple of those integers. Then compute and print the result of hash(tuple)."
   ]
  },
  {
   "cell_type": "code",
   "execution_count": 19,
   "id": "dd451434",
   "metadata": {},
   "outputs": [
    {
     "name": "stdout",
     "output_type": "stream",
     "text": [
      "Please list a value of desired integers1,2,3\n",
      "6337622053081320954\n"
     ]
    }
   ],
   "source": [
    "x = input(\"Please list a value of desired integers\")\n",
    "y = tuple(x)\n",
    "print(hash(y))"
   ]
  },
  {
   "cell_type": "code",
   "execution_count": 16,
   "id": "78a4264e",
   "metadata": {},
   "outputs": [],
   "source": [
    "#Exercise 3\n",
    "#Take the following two lists. Create a third list by picking a odd-index elements from the first list and even-index elements from the second.\n",
    "\n",
    "listOne = [3, 6, 9, 12, 15, 18, 21]\n",
    "listTwo = [4, 8, 12, 16, 20, 24, 28]"
   ]
  },
  {
   "cell_type": "code",
   "execution_count": 86,
   "id": "603c8586",
   "metadata": {},
   "outputs": [
    {
     "name": "stdout",
     "output_type": "stream",
     "text": [
      "[6, 12, 18, 12, 20, 28]\n"
     ]
    }
   ],
   "source": [
    "#Since 0 is neither odd nor even, the 0th index was not included in either list\n",
    "listthree = listOne[1::2] + listTwo[2::2]\n",
    "print(listthree)"
   ]
  },
  {
   "cell_type": "code",
   "execution_count": 88,
   "id": "6a484425",
   "metadata": {},
   "outputs": [],
   "source": [
    "Exercise 4\n",
    "Take the following list. Slice it into three equal chunks and reverse each list.\n",
    "sampleList = [11, 45, 8, 23, 14, 12, 78, 45, 89]"
   ]
  },
  {
   "cell_type": "code",
   "execution_count": 89,
   "id": "edb29042",
   "metadata": {},
   "outputs": [
    {
     "name": "stdout",
     "output_type": "stream",
     "text": [
      "[8, 45, 11] [12, 14, 23] [89, 45, 78]\n"
     ]
    }
   ],
   "source": [
    "sampleList = [11, 45, 8, 23, 14, 12, 78, 45, 89]\n",
    "Chunk1 = sampleList[0:3]\n",
    "Chunk1.reverse()\n",
    "Chunk2 = sampleList[3:6]\n",
    "Chunk2.reverse()\n",
    "Chunk3 = sampleList[6::]\n",
    "Chunk3.reverse()\n",
    "print(Chunk1,Chunk2,Chunk3)"
   ]
  },
  {
   "cell_type": "code",
   "execution_count": null,
   "id": "76e8c14f",
   "metadata": {},
   "outputs": [],
   "source": [
    "Exercise 5\n",
    "Iterate through a given list and check if a given element already exists in a dictionary as a key’s value. If not, delete it from the list.\n",
    "\n",
    "rollNumber = [47, 64, 69, 37, 76, 83, 95, 97]\n",
    "sampleDict ={'Zach':47, 'Emma':69, 'Kelly':76, 'Jason':97}"
   ]
  },
  {
   "cell_type": "code",
   "execution_count": 21,
   "id": "d0a18aa7",
   "metadata": {},
   "outputs": [
    {
     "name": "stdout",
     "output_type": "stream",
     "text": [
      "[47]\n",
      "[47, 69]\n",
      "[47, 69, 76]\n",
      "[47, 69, 76]\n",
      "[47, 69, 76, 97]\n"
     ]
    }
   ],
   "source": [
    "rollNumber = [47, 64, 69, 37, 76, 83, 95, 97]\n",
    "sampleDict ={'Zach':47, 'Emma':69, 'Kelly':76, 'Jason':97}\n",
    "\n",
    "newlist = []\n",
    "for i in list(rollNumber):\n",
    "    if i in sampleDict.values():\n",
    "        newlist.append(i)\n",
    "    else:\n",
    "        print(newlist)\n",
    "        \n",
    "print(newlist)"
   ]
  }
 ],
 "metadata": {
  "kernelspec": {
   "display_name": "Python 3 (ipykernel)",
   "language": "python",
   "name": "python3"
  },
  "language_info": {
   "codemirror_mode": {
    "name": "ipython",
    "version": 3
   },
   "file_extension": ".py",
   "mimetype": "text/x-python",
   "name": "python",
   "nbconvert_exporter": "python",
   "pygments_lexer": "ipython3",
   "version": "3.9.12"
  }
 },
 "nbformat": 4,
 "nbformat_minor": 5
}
